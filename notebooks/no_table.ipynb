{
 "cells": [
  {
   "cell_type": "code",
   "execution_count": 9,
   "id": "867df4bf",
   "metadata": {},
   "outputs": [],
   "source": [
    "import argparse\n",
    "import collections\n",
    "import re\n",
    "import spacy\n",
    "from tqdm import tqdm\n",
    "from bs4 import BeautifulSoup\n",
    "import numpy as np\n",
    "import pandas as pd"
   ]
  },
  {
   "cell_type": "code",
   "execution_count": 10,
   "id": "d39f22aa",
   "metadata": {},
   "outputs": [],
   "source": [
    "def remove_tables(doc):\n",
    "    line_counter = 0\n",
    "    line_counter_number = 0\n",
    "    table_status = False\n",
    "    text = []\n",
    "    possible_text = []\n",
    "    for line in doc.split('\\n'):\n",
    "\n",
    "        if '-'*15 in line:\n",
    "            table_status = True\n",
    "            if len(possible_text) == 0:\n",
    "                pass\n",
    "            elif len(possible_text) > 3:\n",
    "                text.extend(possible_text)\n",
    "                possible_text = []\n",
    "            else:\n",
    "                possible_text = []\n",
    "            continue\n",
    "        if table_status:\n",
    "            if re.search(r'\\d+',line):\n",
    "                if line.count(' ') < len(line.split()) + 5:\n",
    "                    possible_text.append(line)\n",
    "                else:\n",
    "                    line_counter_number += 1\n",
    "            else:\n",
    "                possible_text.append(line)\n",
    "            line_counter += 1\n",
    "        if line_counter == 3:\n",
    "            if len(possible_text) == line_counter:\n",
    "                text.extend(possible_text)\n",
    "                table_status = False\n",
    "            else:\n",
    "                possible_text = []\n",
    "            line_counter = 0\n",
    "            line_counter_number = 0\n",
    "            continue\n",
    "\n",
    "\n",
    "        if not table_status:\n",
    "            text.append(line)\n",
    "    return ''.join(text)"
   ]
  },
  {
   "cell_type": "code",
   "execution_count": 11,
   "id": "c7bf41ba",
   "metadata": {},
   "outputs": [],
   "source": [
    "def load_corpus(path):\n",
    "    print('Loading corpus...')\n",
    "    corpus = {}\n",
    "    n_text = 0\n",
    "    with open(path, errors='ignore') as f:\n",
    "        all_text = ''.join(f.read())\n",
    "        for raw_text in tqdm(all_text.split('</DOC>')):\n",
    "            if not raw_text:\n",
    "                continue\n",
    "            result = re.search(r'\\<DOCNO\\>(.*)\\<\\/DOCNO\\>', raw_text, flags=re.MULTILINE|re.DOTALL)\n",
    "            if not result:\n",
    "                continue\n",
    "            doc_id = result.group(1)\n",
    "            doc_id = doc_id.strip()\n",
    "\n",
    "            result = re.search(r'\\<TEXT\\>(.*)\\<\\/TEXT\\>', raw_text, flags=re.MULTILINE|re.DOTALL)\n",
    "            doc_text = ''\n",
    "            if result:\n",
    "                doc_text = result.group(1)\n",
    "                doc_text = remove_tables(doc_text)\n",
    "                doc_text = doc_text.replace('<P>', ' ').replace('</P>', ' ')\n",
    "                doc_text = doc_text.strip()\n",
    "                if doc_text:\n",
    "                    n_text += 1\n",
    "\n",
    "            corpus[doc_id] = ' '.join(doc_text.split())\n",
    "\n",
    "    print(f'Loaded {len(corpus)} docs, {n_text} with texts.')\n",
    "    return corpus"
   ]
  },
  {
   "cell_type": "code",
   "execution_count": 4,
   "id": "5c35cad8",
   "metadata": {},
   "outputs": [
    {
     "name": "stdout",
     "output_type": "stream",
     "text": [
      "Loading corpus...\n"
     ]
    },
    {
     "name": "stderr",
     "output_type": "stream",
     "text": [
      "100%|██████████| 528160/528160 [01:11<00:00, 7345.97it/s] "
     ]
    },
    {
     "name": "stdout",
     "output_type": "stream",
     "text": [
      "Loaded 528156 docs, 522396 with texts.\n"
     ]
    },
    {
     "name": "stderr",
     "output_type": "stream",
     "text": [
      "\n"
     ]
    }
   ],
   "source": [
    "corpus = load_corpus('repos/pygaggle/data/robust04/trec_disks_4_and_5_concat.txt')"
   ]
  },
  {
   "cell_type": "code",
   "execution_count": 14,
   "id": "8eb3c5a5",
   "metadata": {},
   "outputs": [],
   "source": [
    "df = pd.read_csv('repos/pygaggle/data/robust04/run.robust04.bm25.txt', sep=' ', header=None)\n",
    "bm25_docs = df.iloc[:,2].to_list()\n",
    "empty_docs = [i for i in corpus.keys() if corpus[i]=='']\n",
    "empty_bm25 = [i for i in empty_docs if i in bm25_docs]"
   ]
  },
  {
   "cell_type": "code",
   "execution_count": null,
   "id": "fccd6df2",
   "metadata": {},
   "outputs": [],
   "source": [
    "import re\n",
    "line_counter = 3\n",
    "table_status = False\n",
    "text = []\n",
    "lines = doc.split('\\n')\n",
    "for num, line in enumerate(lines):\n",
    "    if '-'*15 in line:\n",
    "        table_status = True\n",
    "        line_counter = 3\n",
    "        continue\n",
    "    if table_status:\n",
    "        next_lines = lines[num:num+3]\n",
    "        if all([re.search(r'\\d+',line) for line in lines]):\n",
    "            line_counter = 3\n",
    "        else:\n",
    "            \n",
    "        continue\n",
    "    "
   ]
  },
  {
   "cell_type": "code",
   "execution_count": null,
   "id": "ab755361",
   "metadata": {},
   "outputs": [],
   "source": []
  }
 ],
 "metadata": {
  "environment": {
   "name": "pytorch-gpu.1-9.m74",
   "type": "gcloud",
   "uri": "gcr.io/deeplearning-platform-release/pytorch-gpu.1-9:m74"
  },
  "kernelspec": {
   "display_name": "Python 3",
   "language": "python",
   "name": "python3"
  },
  "language_info": {
   "codemirror_mode": {
    "name": "ipython",
    "version": 3
   },
   "file_extension": ".py",
   "mimetype": "text/x-python",
   "name": "python",
   "nbconvert_exporter": "python",
   "pygments_lexer": "ipython3",
   "version": "3.7.10"
  }
 },
 "nbformat": 4,
 "nbformat_minor": 5
}
