{
 "cells": [
  {
   "cell_type": "code",
   "execution_count": null,
   "id": "71e53a2f",
   "metadata": {},
   "outputs": [],
   "source": [
    "import argparse\n",
    "import collections\n",
    "import re\n",
    "import spacy\n",
    "from tqdm import tqdm\n",
    "from bs4 import BeautifulSoup\n",
    "import numpy as np"
   ]
  },
  {
   "cell_type": "code",
   "execution_count": null,
   "id": "74bed562",
   "metadata": {},
   "outputs": [],
   "source": [
    "def load_corpus(path):\n",
    "    print('Loading corpus...')\n",
    "    corpus = {}\n",
    "    n_text = 0\n",
    "    with open(path, errors='ignore') as f:\n",
    "        all_text = ' '.join(f.read().split())\n",
    "        for raw_text in tqdm(all_text.split('</DOC>')):\n",
    "            if not raw_text:\n",
    "                continue\n",
    "            result = re.search(r'\\<DOCNO\\>(.*)\\<\\/DOCNO\\>', raw_text)\n",
    "            if not result:\n",
    "                continue\n",
    "            doc_id = result.group(1)\n",
    "            doc_id = doc_id.strip()\n",
    "\n",
    "            result = re.search(r'\\<TEXT\\>(.*)\\<\\/TEXT\\>', raw_text)\n",
    "            doc_text = ''\n",
    "            if result:\n",
    "                doc_text = result.group(1)\n",
    "                doc_text = BeautifulSoup(doc_text, 'html.parser').text\n",
    "                doc_text = doc_text.strip()\n",
    "                if doc_text:\n",
    "                    n_text += 1\n",
    "\n",
    "            corpus[doc_id] = ' '.join(doc_text.split())\n",
    "\n",
    "    print(f'Loaded {len(corpus)} docs, {n_text} with texts.')\n",
    "    return corpus"
   ]
  },
  {
   "cell_type": "code",
   "execution_count": null,
   "id": "072fff34",
   "metadata": {},
   "outputs": [],
   "source": [
    "corpus = load_corpus('repos/pygaggle/data/robust04/trec_disks_4_and_5_concat.txt')\n",
    "result = []\n",
    "for k, v in corpus.items():\n",
    "    result.append({'id': k, 'contents': v})\n",
    "\n",
    "with open('collection.json', 'w', encoding='utf-8') as f:\n",
    "    json.dump(result, f, ensure_ascii=False, indent=4)"
   ]
  }
 ],
 "metadata": {
  "environment": {
   "name": "pytorch-gpu.1-9.m74",
   "type": "gcloud",
   "uri": "gcr.io/deeplearning-platform-release/pytorch-gpu.1-9:m74"
  },
  "kernelspec": {
   "display_name": "Python 3",
   "language": "python",
   "name": "python3"
  },
  "language_info": {
   "codemirror_mode": {
    "name": "ipython",
    "version": 3
   },
   "file_extension": ".py",
   "mimetype": "text/x-python",
   "name": "python",
   "nbconvert_exporter": "python",
   "pygments_lexer": "ipython3",
   "version": "3.7.10"
  }
 },
 "nbformat": 4,
 "nbformat_minor": 5
}
